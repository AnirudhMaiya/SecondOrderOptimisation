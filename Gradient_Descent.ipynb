{
  "nbformat": 4,
  "nbformat_minor": 0,
  "metadata": {
    "colab": {
      "name": "Gradient_Descent.ipynb",
      "provenance": [],
      "collapsed_sections": []
    },
    "kernelspec": {
      "name": "python3",
      "display_name": "Python 3"
    }
  },
  "cells": [
    {
      "cell_type": "code",
      "metadata": {
        "id": "AECT7GHs8e68",
        "colab_type": "code",
        "colab": {
          "base_uri": "https://localhost:8080/",
          "height": 65
        },
        "outputId": "2e6c4051-586c-4cad-cb66-6834a3b8140a"
      },
      "source": [
        "from sklearn.datasets import fetch_california_housing\n",
        "import numpy as np\n",
        "import tensorflow as tf"
      ],
      "execution_count": 1,
      "outputs": [
        {
          "output_type": "display_data",
          "data": {
            "text/html": [
              "<p style=\"color: red;\">\n",
              "The default version of TensorFlow in Colab will soon switch to TensorFlow 2.x.<br>\n",
              "We recommend you <a href=\"https://www.tensorflow.org/guide/migrate\" target=\"_blank\">upgrade</a> now \n",
              "or ensure your notebook will continue to use TensorFlow 1.x via the <code>%tensorflow_version 1.x</code> magic:\n",
              "<a href=\"https://colab.research.google.com/notebooks/tensorflow_version.ipynb\" target=\"_blank\">more info</a>.</p>\n"
            ],
            "text/plain": [
              "<IPython.core.display.HTML object>"
            ]
          },
          "metadata": {
            "tags": []
          }
        }
      ]
    },
    {
      "cell_type": "code",
      "metadata": {
        "id": "XHPj8z6k8kq4",
        "colab_type": "code",
        "colab": {}
      },
      "source": [
        "from sklearn.model_selection import train_test_split\n",
        "from sklearn.preprocessing import StandardScaler\n",
        "from sklearn.metrics import mean_squared_error,mean_absolute_error\n"
      ],
      "execution_count": 0,
      "outputs": []
    },
    {
      "cell_type": "code",
      "metadata": {
        "id": "3WMYGlv-8mSU",
        "colab_type": "code",
        "colab": {
          "base_uri": "https://localhost:8080/",
          "height": 35
        },
        "outputId": "7a98df2d-107b-4a50-c0e7-b33b54a20c7d"
      },
      "source": [
        "house = fetch_california_housing()\n",
        "x = house.data\n",
        "y = house.target"
      ],
      "execution_count": 3,
      "outputs": [
        {
          "output_type": "stream",
          "text": [
            "Downloading Cal. housing from https://ndownloader.figshare.com/files/5976036 to /root/scikit_learn_data\n"
          ],
          "name": "stderr"
        }
      ]
    },
    {
      "cell_type": "code",
      "metadata": {
        "id": "c_E0jX-z8ngx",
        "colab_type": "code",
        "colab": {}
      },
      "source": [
        "scaler = StandardScaler()\n",
        "scaler.fit(x)\n",
        "x = scaler.transform(x)\n",
        "\n",
        "\n",
        "scaler2 = StandardScaler()\n",
        "scaler2.fit(y.reshape(-1,1))\n",
        "y = scaler2.transform(y.reshape(-1,1))"
      ],
      "execution_count": 0,
      "outputs": []
    },
    {
      "cell_type": "code",
      "metadata": {
        "id": "8EcRPJJk8pBf",
        "colab_type": "code",
        "colab": {}
      },
      "source": [
        "m,n = x.shape\n",
        "x_bias = np.c_[np.ones((m,1)),x]\n",
        "X_train,X_test,y_train,y_test = train_test_split(x_bias,y,test_size = 0.20,random_state = 105)\n",
        "m,n = X_train.shape"
      ],
      "execution_count": 0,
      "outputs": []
    },
    {
      "cell_type": "code",
      "metadata": {
        "id": "p4qp4iHb8rGS",
        "colab_type": "code",
        "colab": {}
      },
      "source": [
        "tf.reset_default_graph()"
      ],
      "execution_count": 0,
      "outputs": []
    },
    {
      "cell_type": "code",
      "metadata": {
        "id": "SBELVsuP8uIz",
        "colab_type": "code",
        "colab": {
          "base_uri": "https://localhost:8080/",
          "height": 237
        },
        "outputId": "ea22cc00-62b1-47eb-9a78-0927b000171b"
      },
      "source": [
        "epochs =600\n",
        "lr = 0.1\n",
        "\n",
        "theta = tf.Variable(tf.random_uniform([n,1],-0.5,0.5,dtype=tf.float64))\n",
        "output = tf.matmul(X_train,theta,name = 'output')\n",
        "diff = tf.subtract(output,y_train,name = 'diff')\n",
        "mse = tf.reduce_mean(tf.square(diff),name = 'mse')\n",
        "optim = tf.train.GradientDescentOptimizer(learning_rate=lr)\n",
        "min_op = optim.minimize(mse)\n",
        "\n",
        "\n",
        "op = tf.global_variables_initializer()\n",
        "with tf.Session() as sess:\n",
        "  sess.run(op)\n",
        "  for _ in range(epochs):\n",
        "    if(_%50 == 0):\n",
        "      print(mse.eval())\n",
        "    sess.run(min_op)\n",
        "  theta = theta.eval()"
      ],
      "execution_count": 11,
      "outputs": [
        {
          "output_type": "stream",
          "text": [
            "1.4743021532132385\n",
            "0.41399274055994356\n",
            "0.3995186839206442\n",
            "0.3954344377340482\n",
            "0.3941302110846953\n",
            "0.39367394861522326\n",
            "0.39350511639950303\n",
            "0.3934406939724066\n",
            "0.3934157222467836\n",
            "0.39340596704846115\n",
            "0.39340214176590554\n",
            "0.39340063903688505\n"
          ],
          "name": "stdout"
        }
      ]
    },
    {
      "cell_type": "code",
      "metadata": {
        "id": "qByejVMz9AAz",
        "colab_type": "code",
        "colab": {}
      },
      "source": [
        "mae_train = mean_absolute_error(y_train,np.dot(theta.T,X_train.T).T)\n",
        "mae_test = mean_absolute_error(y_test,np.dot(theta.T,X_test.T).T)"
      ],
      "execution_count": 0,
      "outputs": []
    },
    {
      "cell_type": "code",
      "metadata": {
        "id": "vzPecGLk9N_t",
        "colab_type": "code",
        "colab": {
          "base_uri": "https://localhost:8080/",
          "height": 35
        },
        "outputId": "b7085d01-4142-4a5b-b4dc-29fca3f8e76f"
      },
      "source": [
        "print(mae_train,mae_test)"
      ],
      "execution_count": 13,
      "outputs": [
        {
          "output_type": "stream",
          "text": [
            "0.46022152959002466 0.46320524647543354\n"
          ],
          "name": "stdout"
        }
      ]
    },
    {
      "cell_type": "code",
      "metadata": {
        "id": "9Ix8uTUe9PKs",
        "colab_type": "code",
        "colab": {}
      },
      "source": [
        ""
      ],
      "execution_count": 0,
      "outputs": []
    }
  ]
}