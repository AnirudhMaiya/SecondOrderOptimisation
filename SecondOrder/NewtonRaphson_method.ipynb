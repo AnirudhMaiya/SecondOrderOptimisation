{
  "nbformat": 4,
  "nbformat_minor": 0,
  "metadata": {
    "colab": {
      "name": "NewtonRaphson_method.ipynb",
      "provenance": [],
      "collapsed_sections": []
    },
    "kernelspec": {
      "name": "python3",
      "display_name": "Python 3"
    },
    "accelerator": "GPU"
  },
  "cells": [
    {
      "cell_type": "code",
      "metadata": {
        "id": "594SgVR_TuJ1",
        "colab_type": "code",
        "outputId": "bcb0fb97-1d6d-445e-e1e4-91cb9d6a839c",
        "colab": {
          "base_uri": "https://localhost:8080/",
          "height": 65
        }
      },
      "source": [
        "from sklearn.datasets import fetch_california_housing\n",
        "import numpy as np\n",
        "import tensorflow as tf"
      ],
      "execution_count": 1,
      "outputs": [
        {
          "output_type": "display_data",
          "data": {
            "text/html": [
              "<p style=\"color: red;\">\n",
              "The default version of TensorFlow in Colab will soon switch to TensorFlow 2.x.<br>\n",
              "We recommend you <a href=\"https://www.tensorflow.org/guide/migrate\" target=\"_blank\">upgrade</a> now \n",
              "or ensure your notebook will continue to use TensorFlow 1.x via the <code>%tensorflow_version 1.x</code> magic:\n",
              "<a href=\"https://colab.research.google.com/notebooks/tensorflow_version.ipynb\" target=\"_blank\">more info</a>.</p>\n"
            ],
            "text/plain": [
              "<IPython.core.display.HTML object>"
            ]
          },
          "metadata": {
            "tags": []
          }
        }
      ]
    },
    {
      "cell_type": "code",
      "metadata": {
        "id": "CRdPbmXwUOZQ",
        "colab_type": "code",
        "colab": {}
      },
      "source": [
        "from sklearn.model_selection import train_test_split\n",
        "from sklearn.preprocessing import StandardScaler\n",
        "from sklearn.metrics import mean_squared_error,mean_absolute_error\n"
      ],
      "execution_count": 0,
      "outputs": []
    },
    {
      "cell_type": "code",
      "metadata": {
        "id": "bsssxFWzUTah",
        "colab_type": "code",
        "outputId": "387ef74c-6532-49f8-ee08-ffa515f262a4",
        "colab": {
          "base_uri": "https://localhost:8080/",
          "height": 35
        }
      },
      "source": [
        "house = fetch_california_housing()\n",
        "x = house.data\n",
        "y = house.target"
      ],
      "execution_count": 3,
      "outputs": [
        {
          "output_type": "stream",
          "text": [
            "Downloading Cal. housing from https://ndownloader.figshare.com/files/5976036 to /root/scikit_learn_data\n"
          ],
          "name": "stderr"
        }
      ]
    },
    {
      "cell_type": "code",
      "metadata": {
        "id": "SZ7afhD5V-8r",
        "colab_type": "code",
        "colab": {}
      },
      "source": [
        "scaler = StandardScaler()\n",
        "scaler.fit(x)\n",
        "x = scaler.transform(x)\n",
        "\n",
        "\n",
        "scaler2 = StandardScaler()\n",
        "scaler2.fit(y.reshape(-1,1))\n",
        "y = scaler2.transform(y.reshape(-1,1))"
      ],
      "execution_count": 0,
      "outputs": []
    },
    {
      "cell_type": "code",
      "metadata": {
        "id": "YOjOQrnz7UAv",
        "colab_type": "code",
        "outputId": "04d07c9a-2dfb-4e36-fbe1-cc55278317a2",
        "colab": {
          "base_uri": "https://localhost:8080/",
          "height": 35
        }
      },
      "source": [
        "print(x.shape,y.shape)"
      ],
      "execution_count": 5,
      "outputs": [
        {
          "output_type": "stream",
          "text": [
            "(20640, 8) (20640, 1)\n"
          ],
          "name": "stdout"
        }
      ]
    },
    {
      "cell_type": "code",
      "metadata": {
        "id": "_HrYXHBYUXIS",
        "colab_type": "code",
        "colab": {}
      },
      "source": [
        "m,n = x.shape\n",
        "x_bias = np.c_[np.ones((m,1)),x]\n",
        "X_train,X_test,y_train,y_test = train_test_split(x_bias,y,test_size = 0.20,random_state = 105)\n",
        "m,n = X_train.shape"
      ],
      "execution_count": 0,
      "outputs": []
    },
    {
      "cell_type": "code",
      "metadata": {
        "id": "AiHtOgcmcmDM",
        "colab_type": "code",
        "outputId": "cf9683ed-f4be-42a0-ba04-ad9fe9606dc7",
        "colab": {
          "base_uri": "https://localhost:8080/",
          "height": 35
        }
      },
      "source": [
        "print(X_train.shape,X_test.shape)"
      ],
      "execution_count": 7,
      "outputs": [
        {
          "output_type": "stream",
          "text": [
            "(16512, 9) (4128, 9)\n"
          ],
          "name": "stdout"
        }
      ]
    },
    {
      "cell_type": "code",
      "metadata": {
        "id": "K51gpGevdhqc",
        "colab_type": "code",
        "colab": {}
      },
      "source": [
        "tf.reset_default_graph()"
      ],
      "execution_count": 0,
      "outputs": []
    },
    {
      "cell_type": "code",
      "metadata": {
        "id": "-l5D6wX_V0So",
        "colab_type": "code",
        "colab": {}
      },
      "source": [
        "W = tf.get_variable(name = \"W\",shape=[n, 1],initializer=tf.contrib.layers.xavier_initializer(),dtype = tf.float64)\n",
        "lr =  1\n",
        "output = tf.matmul(X_train,W,name = 'output')\n",
        "diff = tf.subtract(output,y_train,name = 'diff')\n",
        "loss = tf.reduce_mean((1/ (2 * m)) * tf.square(diff),name = 'loss')\n",
        "\n",
        "grads1 = tf.gradients(loss,[W])[0]\n",
        "grads2 = tf.hessians(loss,[W])\n",
        "grads3 = tf.linalg.pinv(tf.reshape(grads2,(9,9)))\n",
        "second_term = tf.matmul(grads3,grads1)\n",
        "ass = tf.assign(W , W - (lr * second_term))\n",
        "\n",
        "op = tf.global_variables_initializer()\n",
        "diff = 9999\n",
        "\n",
        "with tf.Session() as sess:\n",
        "  sess.run(op)\n",
        "     \n",
        "  sess.run(ass)\n",
        " \n",
        "  good_W = W.eval()"
      ],
      "execution_count": 0,
      "outputs": []
    },
    {
      "cell_type": "code",
      "metadata": {
        "id": "MJxL4_wTWIPS",
        "colab_type": "code",
        "colab": {}
      },
      "source": [
        "mae_train = mean_absolute_error(y_train,np.dot(good_W.T,X_train.T).T)\n",
        "mae_test = mean_absolute_error(y_test,np.dot(good_W.T,X_test.T).T)"
      ],
      "execution_count": 0,
      "outputs": []
    },
    {
      "cell_type": "code",
      "metadata": {
        "id": "3kw1jQpfWl5O",
        "colab_type": "code",
        "outputId": "e253dc34-9cd6-43d4-ad46-3c5e4e24986b",
        "colab": {
          "base_uri": "https://localhost:8080/",
          "height": 35
        }
      },
      "source": [
        "print(mae_train,mae_test)"
      ],
      "execution_count": 47,
      "outputs": [
        {
          "output_type": "stream",
          "text": [
            "0.4602584621608834 0.4632529229858948\n"
          ],
          "name": "stdout"
        }
      ]
    },
    {
      "cell_type": "code",
      "metadata": {
        "id": "B2magyt1bcBX",
        "colab_type": "code",
        "colab": {}
      },
      "source": [
        "tf.reset_default_graph()"
      ],
      "execution_count": 0,
      "outputs": []
    },
    {
      "cell_type": "code",
      "metadata": {
        "id": "b91CzEB0dNmO",
        "colab_type": "code",
        "colab": {}
      },
      "source": [
        ""
      ],
      "execution_count": 0,
      "outputs": []
    },
    {
      "cell_type": "code",
      "metadata": {
        "id": "9Lgo0sJH7c91",
        "colab_type": "code",
        "colab": {}
      },
      "source": [
        ""
      ],
      "execution_count": 0,
      "outputs": []
    }
  ]
}